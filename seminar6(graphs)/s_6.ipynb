{
  "cells": [
    {
      "cell_type": "markdown",
      "id": "be8a89ee-c41a-45e4-b757-5da3c9a110d4",
      "metadata": {
        "id": "be8a89ee-c41a-45e4-b757-5da3c9a110d4"
      },
      "source": [
        "# Лабораторное занятие 6. Графы"
      ]
    },
    {
      "cell_type": "markdown",
      "id": "kz4CjgPc_SnI",
      "metadata": {
        "id": "kz4CjgPc_SnI"
      },
      "source": [
        "Основные определения по графам можно посмотреть в статье https://skysmart.ru/articles/mathematic/osnovnye-ponyatiya-teorii-grafov"
      ]
    },
    {
      "cell_type": "markdown",
      "id": "c3915cd5-675d-4e98-bd57-34848e9b22d7",
      "metadata": {
        "id": "c3915cd5-675d-4e98-bd57-34848e9b22d7"
      },
      "source": [
        "## Задачи"
      ]
    },
    {
      "cell_type": "markdown",
      "id": "3c531901-dabc-4f4e-86bc-8362d9649804",
      "metadata": {
        "id": "3c531901-dabc-4f4e-86bc-8362d9649804"
      },
      "source": [
        "1. Задан неориентированный граф. Определите является ли граф связным,  т. е. между любой парой вершин этого графа существует как минимум один путь.\n",
        "\n",
        "Входные данные: число пар узлов и далее по строчно вводятся пары узлов.\n",
        "\n",
        "Примеры\n",
        "\n",
        "Ввод:\n",
        "\n",
        "6\n",
        "\n",
        "0 1\n",
        "\n",
        "1 2 \n",
        "\n",
        "2 3\n",
        "\n",
        "3 5\n",
        "\n",
        "4 1\n",
        "\n",
        "Вывод: \n",
        "\n",
        "True\n",
        "\n",
        "Ввод:\n",
        "\n",
        "9\n",
        "\n",
        "0 1\n",
        "\n",
        "1 2\n",
        "\n",
        "2 3\n",
        "\n",
        "3 5\n",
        "\n",
        "4 6\n",
        "\n",
        "4 8\n",
        "\n",
        "7 8\n",
        "\n",
        "Вывод: \n",
        "\n",
        "False\n",
        "\n",
        "2. Задан ориентированный граф и два узла - начальный узел и конечный узел. Проверьте достижим ли конечный узел из начального узла?\n",
        "\n",
        "Входные данные: число узлов в графе, далее пары узлов (с направленной связью), далее на новой строке вводится начальный и через пробел конечный узел графа.\n",
        "\n",
        "Ввод: \n",
        "\n",
        "6\n",
        "\n",
        "[(0, 1), (1, 2), (2, 3), (3, 5), (4, 1)]\n",
        "\n",
        "4 5\n",
        "\n",
        "Вывод: \n",
        "\n",
        "True\n",
        "\n",
        "Объяснение - строим путь [4 —> 1 —> 2 —> 3 —> 5]\n",
        "\n",
        "\n",
        "3. Используя словарь по аэропортам вылета и прилёта найдите маршрут следования самолёта. Считайте, что вылет запланирован из каждого аэропорта, кроме конечного пункта назначения, и каждый аэропорт посещается только один раз, т.е. в маршруте нет циклов.\n",
        "\n",
        "Ввод:\n",
        "{'HKG': 'DXB', 'FRA': 'HKG', 'DEL': 'FRA'}\n",
        "\n",
        "Вывод:\n",
        "\n",
        "['DEL', 'FRA', 'HKG', 'DXB']\n",
        "\n",
        "Объяснение - [HKG —> DXB, FRA —> HKG, DEL —> FRA].\n",
        "\n",
        "4. Задан неориентированный граф. Выясните содержит ли он циклы?\n",
        "\n",
        "Ввод: \n",
        "\n",
        "3\n",
        "\n",
        "0 1\n",
        "\n",
        "1 2\n",
        "\n",
        "0 2\n",
        "\n",
        "Вывод: \n",
        "\n",
        "True\n",
        "\n",
        "Ввод:\n",
        "\n",
        "5\n",
        "\n",
        "0 1\n",
        "\n",
        "1 2\n",
        "\n",
        "2 3\n",
        "\n",
        "1 4\n",
        "\n",
        "Вывод: \n",
        "\n",
        "False\n",
        "\n",
        "5. Задан список ребер взвешенного ориентированного графа, где вес каждого ребра может быть одним из x, 2x или 3x (x - положительное целое число) и две вершины - исходную и конечную. Эффективно вычислите путь с наименьшими затратами от исходной вершины до вершины назначения (конечной вершины) и верните значение наименьших затрат.\n",
        "\n",
        "Входные данные: список узлов, где (x, y, w) означает связь между узлами x и y (от x к y) с весом w. Далее с новой строки точка отправления и точка прибытия.\n",
        "\n",
        "Ввод: \n",
        "[(0, 1, 3), (0, 4, 1), (1, 2, 1), (1, 3, 3), (1, 4, 1), (4, 2, 2), (4, 3, 1)]\n",
        "\n",
        "0 2\n",
        "\n",
        "Вывод: \n",
        "\n",
        "3\n",
        "\n",
        "6. Дан списко слов. Проверьте можно ли переставить отдельные слова так, чтобы они образовали цикл. Два слова, X и Y, могут быть заключены в цикл, если последний символ X совпадает с первым символом Y или наоборот.\n",
        "\n",
        "Ввод:\n",
        "\n",
        "[ANT, OSTRICH, DEER, TURKEY, KANGAROO, TIGER, RABBIT, RAT, TOAD, YAK, HYENA]\n",
        "\n",
        "Вывод: \n",
        "\n",
        "True\n",
        "\n",
        "![graph.png](data:image/png;base64,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)\n",
        "\n"
      ]
    },
    {
      "cell_type": "markdown",
      "id": "15ffdc9e-133c-489f-b220-dcf43a4bb6bb",
      "metadata": {
        "id": "15ffdc9e-133c-489f-b220-dcf43a4bb6bb"
      },
      "source": [
        "Для начинающей группы задачи 1-4, для основной 1-5, для продолжающей 1-6."
      ]
    },
    {
      "cell_type": "code",
      "execution_count": null,
      "id": "720c6023-d094-4917-8128-611532e3935d",
      "metadata": {
        "id": "720c6023-d094-4917-8128-611532e3935d"
      },
      "outputs": [],
      "source": []
    },
    {
      "cell_type": "code",
      "execution_count": null,
      "id": "123e9165-11c2-4b91-93f2-c5c4272a81c0",
      "metadata": {
        "id": "123e9165-11c2-4b91-93f2-c5c4272a81c0"
      },
      "outputs": [],
      "source": []
    }
  ],
  "metadata": {
    "colab": {
      "provenance": []
    },
    "kernelspec": {
      "display_name": "Python 3 (ipykernel)",
      "language": "python",
      "name": "python3"
    },
    "language_info": {
      "codemirror_mode": {
        "name": "ipython",
        "version": 3
      },
      "file_extension": ".py",
      "mimetype": "text/x-python",
      "name": "python",
      "nbconvert_exporter": "python",
      "pygments_lexer": "ipython3",
      "version": "3.9.13"
    }
  },
  "nbformat": 4,
  "nbformat_minor": 5
}
