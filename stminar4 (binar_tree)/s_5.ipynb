{
  "cells": [
    {
      "cell_type": "markdown",
      "id": "be8a89ee-c41a-45e4-b757-5da3c9a110d4",
      "metadata": {
        "id": "be8a89ee-c41a-45e4-b757-5da3c9a110d4"
      },
      "source": [
        "# Лабораторное занятие 5. Двоичные деревья"
      ]
    },
    {
      "cell_type": "markdown",
      "id": "kz4CjgPc_SnI",
      "metadata": {
        "id": "kz4CjgPc_SnI"
      },
      "source": [
        "Идея состоит в том, чтобы обойти оба дерева и сравнить значения в их корневом узле. Если значение совпадает, рекурсивно проверьте, идентично ли левое поддерево первого дерева левому поддереву второго дерева, а правое поддерево первого дерева идентично правому поддереву второго дерева. Если значение в их корневом узле отличается, деревья нарушают свойство данных. Если в какой-то момент рекурсии первое дерево пусто, а второе дерево непусто, или второе дерево пусто, а первое дерево непусто, деревья нарушают структурное свойство и не могут быть идентичными."
      ]
    },
    {
      "cell_type": "markdown",
      "id": "W3X3aYsv_h45",
      "metadata": {
        "id": "W3X3aYsv_h45"
      },
      "source": [
        "### Рекурсивное решение"
      ]
    },
    {
      "cell_type": "code",
      "execution_count": null,
      "id": "H7ho4JON_RWA",
      "metadata": {
        "id": "H7ho4JON_RWA"
      },
      "outputs": [],
      "source": [
        "# Класс для хранения узла бинарного дерева.\n",
        "class Node:\n",
        "    def __init__(self, key=None, left=None, right=None):\n",
        "        self.key = key\n",
        "        self.left = left\n",
        "        self.right = right\n",
        " \n",
        " \n",
        "# Рекурсивная функция для проверки идентичности двух заданных бинарных деревьев.\n",
        "def isIdentical(x, y):\n",
        " \n",
        "    #, если оба дерева пусты, вернуть true\n",
        "    if x is None and y is None:\n",
        "        return True\n",
        " \n",
        "    #, если оба дерева непусты и значение их корневого узла совпадает,\n",
        "    # повторяются для их левого и правого поддерева\n",
        "    return (x is not None and y is not None) and (x.key == y.key) and \\\n",
        "        isIdentical(x.left, y.left) and isIdentical(x.right, y.right)\n",
        " \n",
        " \n",
        "if __name__ == '__main__':\n",
        " \n",
        "    # построить первое дерево\n",
        "    x = Node(15)\n",
        "    x.left = Node(10)\n",
        "    x.right = Node(20)\n",
        "    x.left.left = Node(8)\n",
        "    x.left.right = Node(12)\n",
        "    x.right.left = Node(16)\n",
        "    x.right.right = Node(25)\n",
        " \n",
        "    # построить второе дерево\n",
        "    y = Node(15)\n",
        "    y.left = Node(10)\n",
        "    y.right = Node(20)\n",
        "    y.left.left = Node(8)\n",
        "    y.left.right = Node(12)\n",
        "    y.right.left = Node(16)\n",
        "    y.right.right = Node(25)\n",
        " \n",
        "    if isIdentical(x, y):\n",
        "        print('The given binary trees are identical')\n",
        "    else:\n",
        "        print('The given binary trees are not identical')\n",
        " \n",
        "Скачать  Выполнить код\n",
        "\n",
        "результат:\n",
        "\n",
        "The given binary trees are identical"
      ]
    },
    {
      "cell_type": "markdown",
      "id": "WQttOC5d_lZ1",
      "metadata": {
        "id": "WQttOC5d_lZ1"
      },
      "source": [
        "### Итеративное решение"
      ]
    },
    {
      "cell_type": "code",
      "execution_count": null,
      "id": "JfsrywVl_oKF",
      "metadata": {
        "id": "JfsrywVl_oKF"
      },
      "outputs": [],
      "source": [
        "from collections import deque\n",
        " \n",
        " \n",
        "# Класс для хранения узла бинарного дерева.\n",
        "class Node:\n",
        "    def __init__(self, key=None, left=None, right=None):\n",
        "        self.key = key\n",
        "        self.left = left\n",
        "        self.right = right\n",
        " \n",
        " \n",
        "# Итеративная функция для проверки идентичности двух заданных бинарных деревьев.\n",
        "def isIdentical(x, y):\n",
        " \n",
        "    #, если оба дерева пусты, вернуть true\n",
        "    if x is None and y is None:\n",
        "        return True\n",
        " \n",
        "    #, если первое дерево пусто (и второе дерево непусто), вернуть false\n",
        "    if x is None:\n",
        "        return False\n",
        " \n",
        "    #, если второе дерево пусто (и первое дерево непусто), вернуть false\n",
        "    if y is None:\n",
        "        return False\n",
        " \n",
        "    # создает stack для хранения пар\n",
        "    stack = deque()\n",
        "    stack.append((x, y))\n",
        " \n",
        "    # Цикл # до тех пор, пока stack не станет пустым\n",
        "    while stack:\n",
        "        # извлекает верхнюю пару из stack и обрабатывает ее\n",
        "        x, y = stack.pop()\n",
        " \n",
        "        #, если значение их корневого узла не совпадает, вернуть false\n",
        "        if x.key != y.key:\n",
        "            return False\n",
        " \n",
        "        #, если существует левое поддерево `x` и `y`, передать их адреса\n",
        "        # в stack; в противном случае верните false, если существует только один левый дочерний элемент\n",
        "        if x.left and y.left:\n",
        "            stack.append((x.left, y.left))\n",
        "        elif x.left or y.left:\n",
        "            return False\n",
        " \n",
        "        #, если существует правое поддерево `x` и `y`, передать их адреса\n",
        "        # в stack; в противном случае верните false, если существует только один правильный дочерний элемент\n",
        "        if x.right and y.right:\n",
        "            stack.append((x.right, y.right))\n",
        "        elif x.right or y.right:\n",
        "            return False\n",
        " \n",
        "    # мы достигаем здесь, если оба бинарных дерева идентичны\n",
        "    return True\n",
        " \n",
        " \n",
        "if __name__ == '__main__':\n",
        " \n",
        "    # построить первое дерево\n",
        "    x = Node(15)\n",
        "    x.left = Node(10)\n",
        "    x.right = Node(20)\n",
        "    x.left.left = Node(8)\n",
        "    x.left.right = Node(12)\n",
        "    x.right.left = Node(16)\n",
        "    x.right.right = Node(25)\n",
        " \n",
        "    # построить второе дерево\n",
        "    y = Node(15)\n",
        "    y.left = Node(10)\n",
        "    y.right = Node(20)\n",
        "    y.left.left = Node(8)\n",
        "    y.left.right = Node(12)\n",
        "    y.right.left = Node(16)\n",
        "    y.right.right = Node(25)\n",
        " \n",
        "    if isIdentical(x, y):\n",
        "        print('The given binary trees are identical')\n",
        "    else:\n",
        "        print('The given binary trees are not identical')"
      ]
    },
    {
      "cell_type": "markdown",
      "id": "c3915cd5-675d-4e98-bd57-34848e9b22d7",
      "metadata": {
        "id": "c3915cd5-675d-4e98-bd57-34848e9b22d7"
      },
      "source": [
        "## Задачи"
      ]
    },
    {
      "cell_type": "markdown",
      "id": "15ffdc9e-133c-489f-b220-dcf43a4bb6bb",
      "metadata": {
        "id": "15ffdc9e-133c-489f-b220-dcf43a4bb6bb"
      },
      "source": [
        "Для начинающей группы задачи 1-4, для основной 1-5, для продолжающей 1-6."
      ]
    },
    {
      "cell_type": "markdown",
      "id": "3c531901-dabc-4f4e-86bc-8362d9649804",
      "metadata": {
        "id": "3c531901-dabc-4f4e-86bc-8362d9649804"
      },
      "source": [
        "1. Для заданного бинарного дерева напишите эффективный алгоритм, проверяющий, имеет ли оно симметричную структуру или нет, т. е. левое и правое поддерево зеркально отражают друг друга.\n",
        "\n",
        "2 (теор.). Преобразуёте двоичное дерево в его дерево сумм. Проверить, является ли бинарное дерево деревом сумм или нет.\n",
        "\n",
        "3. Дано бинарное дерево. Напишите эффективный алгоритм преобразования бинарного дерева в его зеркало.\n",
        "![image.png](data:image/png;base64,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)\n",
        "\n",
        "4. Для заданного бинарного дерева найти в нем всех предков данного узла.\n",
        "\n",
        "5. Для заданного бинарного дерева напишите эффективный алгоритм для вычисления его диаметра. Диаметр бинарного дерева равен общему количеству узлов на самом длинном пути между любыми двумя его листьями.\n",
        "\n",
        "6. Для заданного бинарного дерева определить расстояние между заданными парами узлов в нем. Расстояние между двумя узлами определяется как общее количество ребер на кратчайшем пути от одного узла к другому."
      ]
    },
    {
      "cell_type": "code",
      "execution_count": null,
      "id": "720c6023-d094-4917-8128-611532e3935d",
      "metadata": {
        "id": "720c6023-d094-4917-8128-611532e3935d"
      },
      "outputs": [],
      "source": []
    },
    {
      "cell_type": "code",
      "execution_count": null,
      "id": "123e9165-11c2-4b91-93f2-c5c4272a81c0",
      "metadata": {
        "id": "123e9165-11c2-4b91-93f2-c5c4272a81c0"
      },
      "outputs": [],
      "source": []
    }
  ],
  "metadata": {
    "colab": {
      "provenance": []
    },
    "kernelspec": {
      "display_name": "Python 3",
      "language": "python",
      "name": "python3"
    },
    "language_info": {
      "codemirror_mode": {
        "name": "ipython",
        "version": 3
      },
      "file_extension": ".py",
      "mimetype": "text/x-python",
      "name": "python",
      "nbconvert_exporter": "python",
      "pygments_lexer": "ipython3",
      "version": "3.10.6"
    },
    "vscode": {
      "interpreter": {
        "hash": "916dbcbb3f70747c44a77c7bcd40155683ae19c65e1c03b4aa3499c5328201f1"
      }
    }
  },
  "nbformat": 4,
  "nbformat_minor": 5
}
